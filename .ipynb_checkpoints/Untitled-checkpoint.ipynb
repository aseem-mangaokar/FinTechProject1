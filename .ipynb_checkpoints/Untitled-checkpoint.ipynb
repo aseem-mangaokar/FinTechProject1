{
 "cells": [
  {
   "cell_type": "code",
   "execution_count": null,
   "id": "3ed61b96-babd-4d61-88a8-76623d6121a6",
   "metadata": {},
   "outputs": [],
   "source": [
    "# start importing data and such"
   ]
  }
 ],
 "metadata": {
  "kernelspec": {
   "display_name": "Python 3",
   "language": "python",
   "name": "python3"
  },
  "language_info": {
   "codemirror_mode": {
    "name": "ipython",
    "version": 3
   },
   "file_extension": ".py",
   "mimetype": "text/x-python",
   "name": "python",
   "nbconvert_exporter": "python",
   "pygments_lexer": "ipython3",
   "version": "3.7.10"
  }
 },
 "nbformat": 4,
 "nbformat_minor": 5
}
